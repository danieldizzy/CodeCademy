{
 "cells": [
  {
   "cell_type": "markdown",
   "metadata": {
    "collapsed": true
   },
   "source": [
    "Iterating over a list in a function\n",
    "Now that we've learned about range, we have two ways of iterating through a list.\n",
    "\n",
    "* Method 1 - for item in list:\n",
    "```python\n",
    "for item in list:\n",
    "    print item\n",
    "def total(numbers):\n",
    "    result = 0\n",
    "    for i in numbers:\n",
    "        result = result + i\n",
    "    return result\n",
    "```\n",
    "\n",
    "* Method 2 - iterate through indexes:\n",
    "```python\n",
    "for i in range(len(list)):\n",
    "    print list[i]\n",
    "def total(numbers):\n",
    "    result = 0\n",
    "    for i in range(0, len(numbers)):\n",
    "        result = result + i\n",
    "    return result\n",
    "```\n",
    "Method 1 is useful to loop through the list, but it's not possible to modify the list this way. Method 2 uses indexes to loop through the list, making it possible to also modify the list if needed. Since we aren't modifying the list, feel free to use either one on this lesson!\n",
    "\n"
   ]
  },
  {
   "cell_type": "code",
   "execution_count": null,
   "metadata": {},
   "outputs": [],
   "source": [
    ""
   ]
  }
 ],
 "metadata": {
  "kernelspec": {
   "display_name": "Python 2",
   "language": "python",
   "name": "python2"
  },
  "language_info": {
   "codemirror_mode": {
    "name": "ipython",
    "version": 2.0
   },
   "file_extension": ".py",
   "mimetype": "text/x-python",
   "name": "python",
   "nbconvert_exporter": "python",
   "pygments_lexer": "ipython2",
   "version": "2.7.6"
  }
 },
 "nbformat": 4,
 "nbformat_minor": 0
}